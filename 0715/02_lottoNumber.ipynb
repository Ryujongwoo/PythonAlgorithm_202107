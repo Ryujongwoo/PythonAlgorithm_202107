{
 "cells": [
  {
   "cell_type": "code",
   "execution_count": 2,
   "id": "06b809e8",
   "metadata": {},
   "outputs": [],
   "source": [
    "import random # randrange() 메소드를 사용하기 위해 import 시킨다.\n",
    "import time   # sleep() 메소드를 사용하기 위해 import 시킨다."
   ]
  },
  {
   "cell_type": "code",
   "execution_count": 21,
   "id": "7e081b2d",
   "metadata": {},
   "outputs": [
    {
     "name": "stdout",
     "output_type": "stream",
     "text": [
      " 1  2  3  4  5  6  7  8  9 10 \n",
      "11 12 13 14 15 16 17 18 19 20 \n",
      "21 22 23 24 25 26 27 28 29 30 \n",
      "31 32 33 34 35 36 37 38 39 40 \n",
      "41 42 43 44 45 \n",
      "============================== 섞기전\n",
      " 7  3 23 15 31 32 33  1 21 43 \n",
      "16 26 25  8 12  2 22 28 18 20 \n",
      "44 36  5 29  6 45 17 35 19  9 \n",
      "38 37 30 42 41  4 14 27 10 34 \n",
      "40 13 24 39 11 \n",
      "============================== 섞은후\n",
      "1등 번호:  7  3 23 15 31 32 보너스 번호: 33 \n"
     ]
    }
   ],
   "source": [
    "# 로또 추첨기 역할을 할 리스트를 만들고 1 ~ 45로 초기화시킨다.\n",
    "# lotto = []\n",
    "# for i in range(1, 46):\n",
    "    # lotto.append(i)\n",
    "lotto = [i for i in range(1, 46)]\n",
    "# print(lotto)\n",
    "\n",
    "# 섞기전 상태를 1줄에 10개씩 출력한다.\n",
    "for i in range(45):\n",
    "    print('{0:2d} '.format(lotto[i]), end='')\n",
    "    if (i + 1) % 10 == 0:\n",
    "        print()\n",
    "    # ===== if\n",
    "# ===== for i\n",
    "print('\\n' + '=' * 30 + ' 섞기전')\n",
    "\n",
    "# 섞는다.\n",
    "# lotto[0]와(고정) lotto[1] ~ lotto[44] 중에서 랜덤한 위치의 값을 선택해서 두 기억장소의 데이터를 교환한다.\n",
    "for i in range(1000000):\n",
    "    # lotto[1] ~ lotto[44] 중에서 랜덤한 위치를 선택한다.\n",
    "    # randrange(a, b) => a 부터 b - 1 사이에서 랜덤한 숫자를 선택한다.\n",
    "    r = random.randrange(1, 45)\n",
    "    # lotto[0]와 lotto[r]에 저장된 데이터를 교환한다.\n",
    "    temp = lotto[0]\n",
    "    lotto[0] = lotto[r]\n",
    "    lotto[r] = temp\n",
    "# ===== for i\n",
    "\n",
    "# 섞은후 상태를 1줄에 10개씩 출력한다.\n",
    "for i in range(45):\n",
    "    print('{0:2d} '.format(lotto[i]), end='')\n",
    "    if (i + 1) % 10 == 0:\n",
    "        print()\n",
    "    # ===== if\n",
    "# ===== for i\n",
    "print('\\n' + '=' * 30 + ' 섞은후')\n",
    "\n",
    "# 1등 번호와 보너스 번호를 출력한다.\n",
    "print('1등 번호: ', end='')\n",
    "for i in range(6):\n",
    "    print('{0:2d} '.format(lotto[i]), end='')\n",
    "    # time 모듈의 sleep() 메소드는 인수로 지정된 시간만큼 프로그램을 일시적으로 멈춘다.\n",
    "    # sleep() 메소드에 프로그램을 멈추는 시간은 '초' 단위로 지정한다.\n",
    "    time.sleep(1)\n",
    "print('보너스 번호: {0:2d} '.format(lotto[6]))"
   ]
  },
  {
   "cell_type": "code",
   "execution_count": 15,
   "id": "0bc5e54e",
   "metadata": {},
   "outputs": [
    {
     "name": "stdout",
     "output_type": "stream",
     "text": [
      "a = 3, b = 4\n",
      "a = 4, b = 3\n",
      "a = 3, b = 4\n",
      "a = 4, b = 3\n",
      "a = 3, b = 4\n"
     ]
    }
   ],
   "source": [
    "a = 3\n",
    "b = 4\n",
    "print('a = {}, b = {}'.format(a, b))\n",
    "temp = a\n",
    "a = b\n",
    "b = temp\n",
    "print('a = {}, b = {}'.format(a, b))\n",
    "[a, b] = [b, a]\n",
    "print('a = {}, b = {}'.format(a, b))\n",
    "(a, b) = (b, a)\n",
    "print('a = {}, b = {}'.format(a, b))\n",
    "a, b = b, a\n",
    "print('a = {}, b = {}'.format(a, b))"
   ]
  },
  {
   "cell_type": "code",
   "execution_count": 27,
   "id": "a273a5b0",
   "metadata": {},
   "outputs": [
    {
     "name": "stdout",
     "output_type": "stream",
     "text": [
      "흰공: 17 12 52  4 30 빨강공: 19 \n"
     ]
    }
   ],
   "source": [
    "# 미국 로또 => powerball, 1 ~ 69 => 5개, 1 ~ 26 => 1개\n",
    "powerball = [i for i in range(1, 70)]\n",
    "for i in range(1000000):\n",
    "    r = random.randrange(1, 69)\n",
    "    powerball[0], powerball[r] = powerball[r], powerball[0]\n",
    "print('흰공: ', end='')\n",
    "for i in range(5):\n",
    "    print('{0:2d} '.format(powerball[i]), end='')\n",
    "    time.sleep(1)\n",
    "print('빨강공: {0:2d} '.format(random.randrange(1, 27)))"
   ]
  },
  {
   "cell_type": "code",
   "execution_count": null,
   "id": "a017b207",
   "metadata": {},
   "outputs": [],
   "source": []
  },
  {
   "cell_type": "code",
   "execution_count": null,
   "id": "9f8f88a1",
   "metadata": {},
   "outputs": [],
   "source": []
  },
  {
   "cell_type": "code",
   "execution_count": null,
   "id": "c31f54ca",
   "metadata": {},
   "outputs": [],
   "source": []
  },
  {
   "cell_type": "code",
   "execution_count": null,
   "id": "c786f99f",
   "metadata": {},
   "outputs": [],
   "source": []
  },
  {
   "cell_type": "code",
   "execution_count": null,
   "id": "ddb58025",
   "metadata": {},
   "outputs": [],
   "source": []
  },
  {
   "cell_type": "code",
   "execution_count": null,
   "id": "12b90c5a",
   "metadata": {},
   "outputs": [],
   "source": []
  }
 ],
 "metadata": {
  "kernelspec": {
   "display_name": "Python 3 (ipykernel)",
   "language": "python",
   "name": "python3"
  },
  "language_info": {
   "codemirror_mode": {
    "name": "ipython",
    "version": 3
   },
   "file_extension": ".py",
   "mimetype": "text/x-python",
   "name": "python",
   "nbconvert_exporter": "python",
   "pygments_lexer": "ipython3",
   "version": "3.9.6"
  }
 },
 "nbformat": 4,
 "nbformat_minor": 5
}

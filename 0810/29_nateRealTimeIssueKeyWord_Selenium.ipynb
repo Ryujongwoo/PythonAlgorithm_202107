{
 "cells": [
  {
   "cell_type": "code",
   "execution_count": 1,
   "id": "11214e4e",
   "metadata": {},
   "outputs": [],
   "source": [
    "# selenium을 사용하기 위해 selenium을 설치하고 import 한다.\n",
    "# !pip install selenium"
   ]
  },
  {
   "cell_type": "code",
   "execution_count": 4,
   "id": "dbaa3e92",
   "metadata": {},
   "outputs": [],
   "source": [
    "import warnings\n",
    "warnings.filterwarnings(action='ignore')\n",
    "# import requests\n",
    "from bs4 import BeautifulSoup\n",
    "from datetime import datetime as dt\n",
    "from selenium import webdriver # selenium을 import 한다."
   ]
  },
  {
   "cell_type": "code",
   "execution_count": 12,
   "id": "59db02a4",
   "metadata": {},
   "outputs": [],
   "source": [
    "# selenium을 사용해 가상 크롬을 실행한다. => 사용중인 크롬 버전과 같은 버전의 크롬 드라이버를 다운받는다.\n",
    "# 다운받은 크롬 드라이버를 현재 소스 프로그램이 위치한 폴더에 복사한다.\n",
    "# 크롬 드라이버를 실행한다.\n",
    "driver = webdriver.Chrome('./chromedriver.exe')"
   ]
  },
  {
   "cell_type": "code",
   "execution_count": 16,
   "id": "8a06e712",
   "metadata": {},
   "outputs": [
    {
     "name": "stdout",
     "output_type": "stream",
     "text": [
      " 1위 백신 접종 예약 -\n",
      " 2위 3살 딸 남친 -\n",
      " 3위 하데스타운 개막 연기 -\n",
      " 4위 빨강 구두 -\n",
      " 5위 MBC, 경찰 기자 -\n"
     ]
    }
   ],
   "source": [
    "# get() 메소드로 가상 크롬에 크롤링할 타겟 사이트를 띄운다.\n",
    "driver.get('https://www.nate.com')\n",
    "# 크롤링할 html 정보를 얻어온다.\n",
    "html = driver.page_source\n",
    "# print(html)\n",
    "soup = BeautifulSoup(html, 'html.parser')\n",
    "# print(soup)\n",
    "\n",
    "ranks = soup.findAll('span', {'class': 'num_rank'})\n",
    "issues = soup.findAll('a', {'class': 'ik'})\n",
    "for i in range(len(issues)):\n",
    "    print('{0:>2s}위 {1}'.format(ranks[i].text, issues[i].text.split('\\n')[1]), end=' ')\n",
    "    upDown = issues[i].text.split('\\n')[2]\n",
    "    if upDown[:2] == '상승':\n",
    "        print('↑{}'.format(upDown[2:]))\n",
    "    elif upDown[:2] == '하락':\n",
    "        print('↓{}'.format(upDown[2:]))\n",
    "    elif upDown[:2] == '동일':\n",
    "        print('-')\n",
    "    else:\n",
    "        print(upDown)"
   ]
  },
  {
   "cell_type": "code",
   "execution_count": null,
   "id": "2eef6d12",
   "metadata": {},
   "outputs": [],
   "source": []
  },
  {
   "cell_type": "code",
   "execution_count": null,
   "id": "9e82c7a1",
   "metadata": {},
   "outputs": [],
   "source": []
  },
  {
   "cell_type": "code",
   "execution_count": null,
   "id": "a4407811",
   "metadata": {},
   "outputs": [],
   "source": []
  },
  {
   "cell_type": "code",
   "execution_count": null,
   "id": "71ce5bb3",
   "metadata": {},
   "outputs": [],
   "source": []
  },
  {
   "cell_type": "code",
   "execution_count": null,
   "id": "5157ebb0",
   "metadata": {},
   "outputs": [],
   "source": []
  },
  {
   "cell_type": "code",
   "execution_count": null,
   "id": "a2c228e3",
   "metadata": {},
   "outputs": [],
   "source": []
  }
 ],
 "metadata": {
  "kernelspec": {
   "display_name": "Python 3",
   "language": "python",
   "name": "python3"
  },
  "language_info": {
   "codemirror_mode": {
    "name": "ipython",
    "version": 3
   },
   "file_extension": ".py",
   "mimetype": "text/x-python",
   "name": "python",
   "nbconvert_exporter": "python",
   "pygments_lexer": "ipython3",
   "version": "3.6.8"
  }
 },
 "nbformat": 4,
 "nbformat_minor": 5
}

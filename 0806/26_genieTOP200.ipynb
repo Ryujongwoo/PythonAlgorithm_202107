{
 "cells": [
  {
   "cell_type": "code",
   "execution_count": 1,
   "id": "d41b5a4a",
   "metadata": {},
   "outputs": [],
   "source": [
    "import warnings\n",
    "warnings.filterwarnings(action='ignore')\n",
    "import requests\n",
    "from bs4 import BeautifulSoup\n",
    "from datetime import datetime as dt\n",
    "import time"
   ]
  },
  {
   "cell_type": "code",
   "execution_count": 5,
   "id": "94bedb40",
   "metadata": {},
   "outputs": [
    {
     "name": "stdout",
     "output_type": "stream",
     "text": [
      "https://www.genie.co.kr/chart/top200?ditc=D&ymd=20210806&hh=21&rtm=Y&pg=1\n",
      "https://www.genie.co.kr/chart/top200?ditc=D&ymd=20210806&hh=21&rtm=Y&pg=2\n",
      "https://www.genie.co.kr/chart/top200?ditc=D&ymd=20210806&hh=21&rtm=Y&pg=3\n",
      "https://www.genie.co.kr/chart/top200?ditc=D&ymd=20210806&hh=21&rtm=Y&pg=4\n"
     ]
    }
   ],
   "source": [
    "# 타겟 사이트 주소 만들기\n",
    "# https://www.genie.co.kr/chart/top200?ditc=D&ymd=20210806&hh=21&rtm=Y&pg=1 =>   1 ~  50\n",
    "# https://www.genie.co.kr/chart/top200?ditc=D&ymd=20210806&hh=21&rtm=Y&pg=2 =>  51 ~ 100\n",
    "# https://www.genie.co.kr/chart/top200?ditc=D&ymd=20210806&hh=21&rtm=Y&pg=3 => 101 ~ 150\n",
    "# https://www.genie.co.kr/chart/top200?ditc=D&ymd=20210806&hh=21&rtm=Y&pg=4 => 151 ~ 200\n",
    "url = 'https://www.genie.co.kr/chart/top200?ditc=D&ymd=20210806&hh=21&rtm=Y&pg='\n",
    "for i in range(1, 5):\n",
    "    # print(url + str(i))\n",
    "    print('{}{}'.format(url, i))"
   ]
  },
  {
   "cell_type": "code",
   "execution_count": 24,
   "id": "fcffe8f1",
   "metadata": {},
   "outputs": [
    {
     "name": "stdout",
     "output_type": "stream",
     "text": [
      "1 낙하 (With 아이유)\n",
      "2 신호등\n",
      "3 바라만 본다\n",
      "4 Next Level\n",
      "5 Permission to Dance\n",
      "6 Weekend\n",
      "7 Butter\n",
      "8 좋아좋아\n",
      "9 OHAYO MY NIGHT\n",
      "10 비가 오는 날엔 (2021)\n",
      "11 Bad Habits\n",
      "12 치맛바람 (Chi Mat Ba Ram)\n",
      "13 Peaches (Feat. Daniel Caesar & Giveon)\n",
      "14 헤픈 우연\n",
      "15 비와 당신\n",
      "16 Dynamite\n",
      "17 롤린 (Rollin')\n",
      "18 You can't sit with us\n",
      "19 하루만 더\n",
      "20 Dun Dun Dance\n",
      "21 Alcohol-Free\n",
      "22 라일락\n",
      "23 비 오는 날 듣기 좋은 노래 (Feat. Colde)\n",
      "24 이제 나만 믿어요\n",
      "25 Celebrity\n",
      "26 운전만해 (We Ride)\n",
      "27 다정히 내 이름을 부르면\n",
      "28 나를 아는 사람\n",
      "29 Savage Love (Laxed - Siren Beat) (BTS Remix)\n",
      "30 안녕 (Hello)\n",
      "31 상상더하기\n",
      "32 ASAP\n",
      "33 별빛 같은 나의 사랑아\n",
      "34 사이렌 Remix (Feat. UNEDUCATED KID & Paul Blanco)\n",
      "35 다시 사랑한다면 (김필 Ver.)\n",
      "36 HERO\n",
      "37 Timeless\n",
      "38 작은 것들을 위한 시 (Boy With Luv) (Feat. Halsey)\n",
      "39 추적이는 여름 비가 되어\n",
      "40 끝사랑\n",
      "41 상상더하기\n",
      "42 그대라는 사치\n",
      "43 Bk Love\n",
      "44 슈퍼스타\n",
      "45 전쟁터 (With 이선희)\n",
      "46 내 손을 잡아\n",
      "47 Stay\n",
      "48 멜로디\n",
      "49 At My Worst\n",
      "50 Life Goes On\n"
     ]
    }
   ],
   "source": [
    "# 노래 제목 크롤링\n",
    "url = 'https://www.genie.co.kr/chart/top200?ditc=D&ymd=20210806&hh=21&rtm=Y&pg='\n",
    "header = {'User-agent': 'Mozilla/5.0 (Windows NT 6.1; WOW64; Trident/7.0; rv:11.0) like Gecko'}\n",
    "for i in range(1, 2):\n",
    "    targetSite = '{}{}'.format(url, i)\n",
    "    request = requests.get(targetSite, headers=header)\n",
    "    # print(request)\n",
    "    html = request.text\n",
    "    # print(html)\n",
    "    soup = BeautifulSoup(html, 'html.parser')\n",
    "    # print(soup)\n",
    "    \n",
    "    # 노래 제목은 'class' 속성이 'title ellipsis'인 <a> 태그 내부에 있다.\n",
    "    titles = soup.findAll('a', {'class': 'title ellipsis'})\n",
    "    # print(titles)\n",
    "    # print(len(titles))\n",
    "    \n",
    "    i = 0\n",
    "    for title in titles:\n",
    "        i += 1\n",
    "        # print(i, title.text.strip())\n",
    "        # print(i, title.text.split('\\n')[-1].strip())\n",
    "        print(i, title.text.strip().split('\\n')[0])"
   ]
  },
  {
   "cell_type": "code",
   "execution_count": null,
   "id": "92d88067",
   "metadata": {},
   "outputs": [],
   "source": []
  },
  {
   "cell_type": "code",
   "execution_count": null,
   "id": "b6f87b87",
   "metadata": {},
   "outputs": [],
   "source": []
  },
  {
   "cell_type": "code",
   "execution_count": null,
   "id": "129f45ec",
   "metadata": {},
   "outputs": [],
   "source": []
  },
  {
   "cell_type": "code",
   "execution_count": null,
   "id": "03378105",
   "metadata": {},
   "outputs": [],
   "source": []
  },
  {
   "cell_type": "code",
   "execution_count": null,
   "id": "e49bfcd2",
   "metadata": {},
   "outputs": [],
   "source": []
  },
  {
   "cell_type": "code",
   "execution_count": null,
   "id": "07db2e20",
   "metadata": {},
   "outputs": [],
   "source": []
  },
  {
   "cell_type": "code",
   "execution_count": null,
   "id": "6e10c872",
   "metadata": {},
   "outputs": [],
   "source": []
  },
  {
   "cell_type": "code",
   "execution_count": null,
   "id": "d835aaee",
   "metadata": {},
   "outputs": [],
   "source": []
  },
  {
   "cell_type": "code",
   "execution_count": null,
   "id": "96e97499",
   "metadata": {},
   "outputs": [],
   "source": []
  }
 ],
 "metadata": {
  "kernelspec": {
   "display_name": "Python 3",
   "language": "python",
   "name": "python3"
  },
  "language_info": {
   "codemirror_mode": {
    "name": "ipython",
    "version": 3
   },
   "file_extension": ".py",
   "mimetype": "text/x-python",
   "name": "python",
   "nbconvert_exporter": "python",
   "pygments_lexer": "ipython3",
   "version": "3.6.8"
  }
 },
 "nbformat": 4,
 "nbformat_minor": 5
}

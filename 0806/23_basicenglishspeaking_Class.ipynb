{
 "cells": [
  {
   "cell_type": "code",
   "execution_count": 1,
   "id": "6c332a33",
   "metadata": {},
   "outputs": [],
   "source": [
    "import warnings\n",
    "warnings.filterwarnings(action='ignore')\n",
    "import requests\n",
    "from bs4 import BeautifulSoup\n",
    "import time # sleep()"
   ]
  },
  {
   "cell_type": "code",
   "execution_count": 2,
   "id": "6685b75a",
   "metadata": {},
   "outputs": [],
   "source": [
    "# 1건의 대화 정보를 저장하는 클래스\n",
    "class Conversation:\n",
    "    def __init__(self, question, answer):\n",
    "        self.question = question\n",
    "        self.answer = answer\n",
    "    def __str__(self):\n",
    "        return '질문: {}\\n답변: {}'.format(self.question, self.answer)"
   ]
  },
  {
   "cell_type": "code",
   "execution_count": 3,
   "id": "1085d749",
   "metadata": {},
   "outputs": [
    {
     "name": "stdout",
     "output_type": "stream",
     "text": [
      "질문: 너... 누구야??\n",
      "답변: 알아서 뭐하시려고...\n"
     ]
    }
   ],
   "source": [
    "c = Conversation('너... 누구야??', '알아서 뭐하시려고...')\n",
    "print(c)"
   ]
  },
  {
   "cell_type": "code",
   "execution_count": 4,
   "id": "e4b5c243",
   "metadata": {},
   "outputs": [],
   "source": [
    "# 75개의 대화 주제와 세부 대화 내용의 url을 크롤링해서 리턴하는 함수\n",
    "def getSubject():\n",
    "    targetSite = 'https://basicenglishspeaking.com/daily-english-conversation-topics/'\n",
    "    request = requests.get(targetSite)\n",
    "    html = request.text\n",
    "    soup = BeautifulSoup(html, 'html.parser')\n",
    "    \n",
    "    subjects = []    # 대화 주제를 저장할 빈 리스트\n",
    "    contentLink = [] # 대화 주제에 따른 세부 대화 내용 페이지의 url을 저장할 빈 리스트\n",
    "    divs = soup.findAll('div', {'class': 'tcb-col'})\n",
    "    for div in divs:\n",
    "        chapter = div.findAll('a')\n",
    "        for a in chapter:\n",
    "            subjects.append(a.text)\n",
    "            contentLink.append(a.get('href')) # 세부 대화 내용의 url을 저장한다.\n",
    "    \n",
    "    # 대화 주제와 대화 주제에 따른 세부 대화 내용의 url을 리턴시킨다.\n",
    "    # 리턴되는 데이터는 2개가 아니라 subjects, contentLink를 묶어서 튜플 1개로 리턴시킨다.\n",
    "    return subjects, contentLink"
   ]
  },
  {
   "cell_type": "code",
   "execution_count": 5,
   "id": "725379b2",
   "metadata": {
    "scrolled": true
   },
   "outputs": [
    {
     "name": "stdout",
     "output_type": "stream",
     "text": [
      " 1. Family - https://basicenglishspeaking.com/family/\n",
      " 2. Restaurant - https://basicenglishspeaking.com/restaurant/\n",
      " 3. Books - https://basicenglishspeaking.com/books/\n",
      " 4. Travel - https://basicenglishspeaking.com/travel/\n",
      " 5. Website - https://basicenglishspeaking.com/website/\n",
      " 6. Accident - https://basicenglishspeaking.com/accident/\n",
      " 7. Childhood memory - https://basicenglishspeaking.com/childhood-memory/\n",
      " 8. Favorite rooms - https://basicenglishspeaking.com/favorite-rooms/\n",
      " 9. Presents - https://basicenglishspeaking.com/presents/\n",
      "10. Historical place - https://basicenglishspeaking.com/historical-place/\n",
      "11. Newspaper/ Magazine - https://basicenglishspeaking.com/newspaper-magazine/\n",
      "12. A memorable event - https://basicenglishspeaking.com/an-event/\n",
      "13. A favorite subject - https://basicenglishspeaking.com/a-subject/\n",
      "14. A museum - https://basicenglishspeaking.com/a-museum/\n",
      "15. A favorite movie - https://basicenglishspeaking.com/a-movie/\n",
      "16. A foreign country - https://basicenglishspeaking.com/a-foreign-country/\n",
      "17. Parties - https://basicenglishspeaking.com/parties/\n",
      "18. A teacher - https://basicenglishspeaking.com/a-teacher/\n",
      "19. A friend - https://basicenglishspeaking.com/a-friend/\n",
      "20. A hotel - https://basicenglishspeaking.com/a-hotel/\n",
      "21. A letter - https://basicenglishspeaking.com/a-letter/\n",
      "22. Hobbies - https://basicenglishspeaking.com/hobbies/\n",
      "23. Music - https://basicenglishspeaking.com/music/\n",
      "24. Shopping - https://basicenglishspeaking.com/shopping/\n",
      "25. Holiday - https://basicenglishspeaking.com/holiday/\n",
      "26. Animals - https://basicenglishspeaking.com/animals/\n",
      "27. A practical skill - https://basicenglishspeaking.com/a-practical-skill/\n",
      "28. Sport - https://basicenglishspeaking.com/sports/\n",
      "29. A School - https://basicenglishspeaking.com/a-school/\n",
      "30. Festival - https://basicenglishspeaking.com/festival/\n",
      "31. Food - https://basicenglishspeaking.com/food/\n",
      "32. Household appliance - https://basicenglishspeaking.com/household-appliance/\n",
      "33. A music band - https://basicenglishspeaking.com/a-music-band/\n",
      "34. Weather - https://basicenglishspeaking.com/weather/\n",
      "35. Neighbor - https://basicenglishspeaking.com/neighbor/\n",
      "36. Natural scenery - https://basicenglishspeaking.com/natural-scenery/\n",
      "37. Outdoor activities - https://basicenglishspeaking.com/outdoor-activities/\n",
      "38. Law - https://basicenglishspeaking.com/law/\n",
      "39. Pollution - https://basicenglishspeaking.com/pollution/\n",
      "40. Traffic jam - https://basicenglishspeaking.com/traffic-jam/\n",
      "41. TV program - https://basicenglishspeaking.com/tv-program/\n",
      "42. Architect/ Building - https://basicenglishspeaking.com/architecture-building/\n",
      "43. Electronic Media - https://basicenglishspeaking.com/electronic-media/\n",
      "44. Job/ Career - https://basicenglishspeaking.com/job-career/\n",
      "45. Competition/ contest - https://basicenglishspeaking.com/competition-contest/\n",
      "46. A garden - https://basicenglishspeaking.com/a-garden/\n",
      "47. Hometown - https://basicenglishspeaking.com/hometown/\n",
      "48. Clothing - https://basicenglishspeaking.com/clothing/\n",
      "49. Advertisement - https://basicenglishspeaking.com/an-advertisement/\n",
      "50. A project - https://basicenglishspeaking.com/a-project/\n",
      "51. A wedding - https://basicenglishspeaking.com/a-wedding/\n",
      "52. A Coffee shop - https://basicenglishspeaking.com/a-coffee-shop/\n",
      "53. Culture - https://basicenglishspeaking.com/culture/\n",
      "54. Transport - https://basicenglishspeaking.com/transport/\n",
      "55. Politician - https://basicenglishspeaking.com/politician/\n",
      "56. Communication - https://basicenglishspeaking.com/communication/\n",
      "57. Business - https://basicenglishspeaking.com/business/\n",
      "58. Computer - https://basicenglishspeaking.com/computer/\n",
      "59. Exercise - https://basicenglishspeaking.com/exercise/\n",
      "60. Goal/ ambition - https://basicenglishspeaking.com/goal-ambition/\n",
      "61. Art - https://basicenglishspeaking.com/art/\n",
      "62. Fashion - https://basicenglishspeaking.com/fashion/\n",
      "63. Jewelry - https://basicenglishspeaking.com/jewelry/\n",
      "64. Cosmetic - https://basicenglishspeaking.com/cosmetic/\n",
      "65. Indoor Game - https://basicenglishspeaking.com/indoor-game/\n",
      "66. Phone conversation - https://basicenglishspeaking.com/phone-conversation/\n",
      "67. Learning A Second language - https://basicenglishspeaking.com/learning-second-language/\n",
      "68. A Creative Person - https://basicenglishspeaking.com/a-creative-person/\n",
      "69. A celebrity - https://basicenglishspeaking.com/a-celebrity/\n",
      "70. A Health Problem - https://basicenglishspeaking.com/a-health-problem/\n",
      "71. Technological advancements - https://basicenglishspeaking.com/technological-advancements/\n",
      "72. A Landmark - https://basicenglishspeaking.com/a-landmark/\n",
      "73. Handcraft Items - https://basicenglishspeaking.com/handcraft-items/\n",
      "74. Plastic Surgery - https://basicenglishspeaking.com/plastic-surgery/\n",
      "75. Success - https://basicenglishspeaking.com/success/\n"
     ]
    }
   ],
   "source": [
    "subjects, contentLink = getSubject()\n",
    "for i in range(len(subjects)):\n",
    "    print('{0:2d}. {1} - {2}'.format(i + 1, subjects[i], contentLink[i]))"
   ]
  },
  {
   "cell_type": "code",
   "execution_count": 12,
   "id": "692fc2b2",
   "metadata": {},
   "outputs": [],
   "source": [
    "# 대화 주제에 따른 모든 대화 내용을 저장할 빈 리스트를 선언한다.\n",
    "conversation = [] # Conversation 클래스 객체를 저장할 리스트, Conversation 클래스 => 질문과 답변이 한 쌍으로 저장된 클래스\n",
    "\n",
    "i = 0 # 대화 주제의 개수를 카운트 하는 변수\n",
    "# 대화 주제의 개수만큼 반복하며 각각의 대화 주제에 따른 대화 내용을 크롤링한다.\n",
    "for s in subjects[:1]:\n",
    "    conversation.append('{0:2d}. {1} - {2}'.format(i + 1, subjects[i], contentLink[i]))\n",
    "    \n",
    "    # 대화 주제별 대화 내용을 크롤링 할 페이지를 요청한다.\n",
    "    request = requests.get(contentLink[i])\n",
    "    \n",
    "    # time 모듈을 import 하면 sleep() 메소드를 사용할 수 있다.\n",
    "    # sleep() 메소드는 인수로 지정한 시간만큼 프로그램을 멈춘다. => 시간은 초 단위로 지정한다.\n",
    "    # 대형 포털 사이트는 짧은 간격으로 많은 요청이 들어오면 자기네 사이트가 공격당하는 것으로 판단할 수 있기 때문에 일정한\n",
    "    # 시간 간격을 두고 정보를 요청하는 것이 좋다.\n",
    "    # 페이지가 로딩되는 시간만큼 기다리기 위해서 일정 시간 간격을 두고 정보를 요청하기도 한다.\n",
    "    time.sleep(1)\n",
    "    \n",
    "    html = request.text\n",
    "    soup = BeautifulSoup(html, 'html.parser')\n",
    "    \n",
    "    # 대화 주제에 따른 세부 대화 내용은 class 속성이 'sc_player_container1'인 div 태그의 다음 형제이다.\n",
    "    divs = soup.findAll('div', {'class': 'sc_player_container1'}) # 플레이 버튼을 찾는다.\n",
    "    # print(len(divs))\n",
    "    \n",
    "    # 대화 주제에 따른 세부 대화 내용의 개수 만큼 반복한다.\n",
    "    for div in divs:\n",
    "        # print(div)\n",
    "        # index(): 인수로 지정된 객체의 index 번호를 얻어온다.\n",
    "        # divs.index(div)\n",
    "        # print(divs.index(div))\n",
    "        # index() 메소드의 실행 결과가 짝수면 질문이고 홀수면 답변이다.\n",
    "        \n",
    "        # 크롤링할 데이터가 태그 내부에 작성된 것이 아니고 class 속성이 'sc_player_container1'인 div 태그의\n",
    "        # 다음 형제로 작성되어 있다.\n",
    "        # next_sibling     => 다음 형제\n",
    "        # previous_sibling => 이전 형제\n",
    "        if divs.index(div) % 2 == 0: # 질문인감?\n",
    "            question = div.next_sibling\n",
    "        else:\n",
    "            answer = div.next_sibling\n",
    "            \n",
    "            # 질문과 답변이 한 쌍이 되었으므로 Conversation 클래스 객체를 생성하고 질문과 답변을 저장한다.\n",
    "            c = Conversation(question, answer)\n",
    "            # 질문과 답변이 한 쌍으로 저장된 Conversation 클래스 객체를 대화 내용을 기억하는 conversation 리스트에\n",
    "            # 저장한다.\n",
    "            conversation.append(c)\n",
    "            \n",
    "    # 대화 주제 1건의 세부 대화 내용이 크롤링되면 다음 대화를 처리하기 뮈해 i를 1증가 시킨다.\n",
    "    i += 1"
   ]
  },
  {
   "cell_type": "code",
   "execution_count": 13,
   "id": "e9b4aa9d",
   "metadata": {},
   "outputs": [
    {
     "name": "stdout",
     "output_type": "stream",
     "text": [
      " 1. Family - https://basicenglishspeaking.com/family/\n",
      "질문: How many people are there in your family?\n",
      "답변: There are 5 people in my family: my father, mother, brother, sister, and me.\n",
      "질문: Does your family live in a house or an apartment?\n",
      "답변: We live in a house in the countryside.\n",
      "질문: What does your father do?\n",
      "답변: My father is a doctor. He works at the local hospital.\n",
      "질문: How old is your mother?\n",
      "답변: She is 40 years old, 1 year younger than my father.\n",
      "질문: Do you have any siblings? What’s his/her name?\n",
      "답변: Yes, I do. I have 1 elder brother, David, and 1 younger sister, Mary.\n",
      "질문: Are you the oldest amongst your brothers and sisters?\n",
      "답변: No, I’m not. I’m the second child in my family.\n",
      "질문: What does your mother/father like?\n",
      "답변: My father likes playing football and my mother likes cooking.\n",
      "질문: Do your parents let you stay out late?\n",
      "답변: Of course not. They always ask me to get home before 10 pm each night.\n",
      "질문: Do you stay with your parents?\n",
      "답변: Right now, no, but I used to.\n",
      "질문: Does your family usually have dinner together?\n",
      "답변: Yes, we do. My mom always prepares delicious meals for us.\n"
     ]
    }
   ],
   "source": [
    "for c in conversation:\n",
    "    print(c)"
   ]
  },
  {
   "cell_type": "code",
   "execution_count": null,
   "id": "56c1e4c7",
   "metadata": {},
   "outputs": [],
   "source": []
  },
  {
   "cell_type": "code",
   "execution_count": null,
   "id": "c952fa50",
   "metadata": {},
   "outputs": [],
   "source": []
  },
  {
   "cell_type": "code",
   "execution_count": null,
   "id": "85656646",
   "metadata": {},
   "outputs": [],
   "source": []
  },
  {
   "cell_type": "code",
   "execution_count": null,
   "id": "afefa3d5",
   "metadata": {},
   "outputs": [],
   "source": []
  },
  {
   "cell_type": "code",
   "execution_count": null,
   "id": "537b78b7",
   "metadata": {},
   "outputs": [],
   "source": []
  },
  {
   "cell_type": "code",
   "execution_count": null,
   "id": "2c795b1f",
   "metadata": {},
   "outputs": [],
   "source": []
  },
  {
   "cell_type": "code",
   "execution_count": null,
   "id": "bcdaabb3",
   "metadata": {},
   "outputs": [],
   "source": []
  },
  {
   "cell_type": "code",
   "execution_count": null,
   "id": "d6f8471b",
   "metadata": {},
   "outputs": [],
   "source": []
  }
 ],
 "metadata": {
  "kernelspec": {
   "display_name": "Python 3",
   "language": "python",
   "name": "python3"
  },
  "language_info": {
   "codemirror_mode": {
    "name": "ipython",
    "version": 3
   },
   "file_extension": ".py",
   "mimetype": "text/x-python",
   "name": "python",
   "nbconvert_exporter": "python",
   "pygments_lexer": "ipython3",
   "version": "3.6.8"
  }
 },
 "nbformat": 4,
 "nbformat_minor": 5
}

{
 "cells": [
  {
   "cell_type": "code",
   "execution_count": 1,
   "id": "50ea79b9",
   "metadata": {},
   "outputs": [],
   "source": [
    "import random"
   ]
  },
  {
   "cell_type": "code",
   "execution_count": 53,
   "id": "afcb8c6d",
   "metadata": {},
   "outputs": [
    {
     "name": "stdout",
     "output_type": "stream",
     "text": [
      "1등 번호: {35, 4, 43, 12, 25, 27} 보너스 번호: 9\n"
     ]
    }
   ],
   "source": [
    "# 로또 번호를 기억할 빈 set을 만든다.\n",
    "lotto = set()\n",
    "# print(type(lotto))\n",
    "\n",
    "# 1등 번호\n",
    "# 무한루프 돌려주는 이유는 랜덤으로 발생시킨 숫자가 몇 번 중복될지 모르기 때문이다.\n",
    "while True:\n",
    "    number = random.randrange(1, 46)\n",
    "    lotto.add(number)\n",
    "    # print('{0:2d} {1}'.format(number, lotto))\n",
    "    # set에 중복되지 않는 숫자가 6개 저장되면 무한루프를 탈출시킨다.\n",
    "    if len(lotto) == 6:\n",
    "        break\n",
    "# ===== while True\n",
    "print('1등 번호: {}'.format(lotto), end=' ')\n",
    "\n",
    "# 보너스 번호\n",
    "while True:\n",
    "    bonus = random.randrange(1, 46)\n",
    "    # print(bonus)\n",
    "    # 보너스 번호가 로또 번호에 없을 경우 무한루프를 탈출시킨다.\n",
    "    if bonus not in lotto:\n",
    "        break\n",
    "# ===== while True\n",
    "print('보너스 번호: {}'.format(bonus))"
   ]
  },
  {
   "cell_type": "code",
   "execution_count": null,
   "id": "47e88dc1",
   "metadata": {},
   "outputs": [],
   "source": []
  },
  {
   "cell_type": "code",
   "execution_count": null,
   "id": "0357d210",
   "metadata": {},
   "outputs": [],
   "source": []
  },
  {
   "cell_type": "code",
   "execution_count": null,
   "id": "a2e246c5",
   "metadata": {},
   "outputs": [],
   "source": []
  },
  {
   "cell_type": "code",
   "execution_count": null,
   "id": "22033851",
   "metadata": {},
   "outputs": [],
   "source": []
  },
  {
   "cell_type": "code",
   "execution_count": null,
   "id": "ffba6895",
   "metadata": {},
   "outputs": [],
   "source": []
  },
  {
   "cell_type": "code",
   "execution_count": null,
   "id": "b1440c53",
   "metadata": {},
   "outputs": [],
   "source": []
  }
 ],
 "metadata": {
  "kernelspec": {
   "display_name": "Python 3 (ipykernel)",
   "language": "python",
   "name": "python3"
  },
  "language_info": {
   "codemirror_mode": {
    "name": "ipython",
    "version": 3
   },
   "file_extension": ".py",
   "mimetype": "text/x-python",
   "name": "python",
   "nbconvert_exporter": "python",
   "pygments_lexer": "ipython3",
   "version": "3.9.6"
  }
 },
 "nbformat": 4,
 "nbformat_minor": 5
}

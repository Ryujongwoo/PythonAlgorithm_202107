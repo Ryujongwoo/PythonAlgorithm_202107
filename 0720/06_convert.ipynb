{
 "cells": [
  {
   "cell_type": "code",
   "execution_count": 4,
   "id": "54267a01",
   "metadata": {},
   "outputs": [
    {
     "data": {
      "image/png": "[encoded data removed]",
      "text/plain": [
       "<IPython.core.display.Image object>"
      ]
     },
     "execution_count": 4,
     "metadata": {
      "image/png": {
       "width": "1000"
      }
     },
     "output_type": "execute_result"
    }
   ],
   "source": [
    "from IPython.display import Image\n",
    "Image('./convert.png', width='1000')"
   ]
  },
  {
   "cell_type": "code",
   "execution_count": 3,
   "id": "de1a7341",
   "metadata": {},
   "outputs": [
    {
     "name": "stdout",
     "output_type": "stream",
     "text": [
      "10진수를 입력하세요: 26\n",
      "11010\n",
      "[1, 1, 0, 1, 0]\n",
      "[1, 1, 0, 1, 0]\n"
     ]
    }
   ],
   "source": [
    "# 진법 변환 => 10진수를 2진수로\n",
    "dec = int(input('10진수를 입력하세요: '))\n",
    "convert = [] # 10진수가 2진수로 변환된 결과를 저장할 빈 리스트를 만든다.\n",
    "\n",
    "# 입력받은 10진수의 크기에 따라서 반복 횟수가 달라지므로 무한루프를 돌려서 처리한다.\n",
    "while True:\n",
    "    m = dec // 2\n",
    "    r = dec % 2\n",
    "    convert.append(r)\n",
    "    if m == 0:\n",
    "        break\n",
    "    # ===== if m == 0\n",
    "    # 다음 연산을 위해서 몫을 dec에 넣어준다.\n",
    "    dec = m\n",
    "# ===== while True\n",
    "\n",
    "# convert 리스트에 저장된 데이터를 뒤부터 앞으로 출력한다.\n",
    "for i in range(len(convert) - 1, -1, -1):\n",
    "    print(convert[i], end='')\n",
    "print()\n",
    "print(convert[::-1])\n",
    "convert.reverse()\n",
    "print(convert)"
   ]
  },
  {
   "cell_type": "code",
   "execution_count": 5,
   "id": "1a016823",
   "metadata": {},
   "outputs": [
    {
     "name": "stdout",
     "output_type": "stream",
     "text": [
      "10진수를 입력하세요: 26\n",
      "32"
     ]
    }
   ],
   "source": [
    "# 진법 변환 => 10진수를 8진수로\n",
    "dec = int(input('10진수를 입력하세요: '))\n",
    "convert = []\n",
    "while True:\n",
    "    m = dec // 8\n",
    "    r = dec % 8\n",
    "    convert.append(r)\n",
    "    if m == 0:\n",
    "        break\n",
    "    dec = m\n",
    "\n",
    "for i in range(len(convert) - 1, -1, -1):\n",
    "    print(convert[i], end='')"
   ]
  },
  {
   "cell_type": "code",
   "execution_count": 9,
   "id": "1a935c1e",
   "metadata": {},
   "outputs": [
    {
     "name": "stdout",
     "output_type": "stream",
     "text": [
      "10진수를 입력하세요: 26\n",
      "1A"
     ]
    }
   ],
   "source": [
    "# 진법 변환 => 10진수를 16진수로\n",
    "dec = int(input('10진수를 입력하세요: '))\n",
    "convert = []\n",
    "\n",
    "# 16진수를 기억하는 리스트를 만든다.\n",
    "hex_16 = ['0', '1', '2', '3', '4', '5', '6', '7', '8', '9', 'A', 'B', 'C', 'D', 'E', 'F']\n",
    "\n",
    "while True:\n",
    "    m = dec // 16\n",
    "    r = dec % 16\n",
    "    # convert.append(r)\n",
    "    convert.append(hex_16[r])\n",
    "    if m == 0:\n",
    "        break\n",
    "    dec = m\n",
    "\n",
    "for i in range(len(convert) - 1, -1, -1):\n",
    "    print(convert[i], end='')"
   ]
  },
  {
   "cell_type": "code",
   "execution_count": 16,
   "id": "1e63982c",
   "metadata": {},
   "outputs": [
    {
     "name": "stdout",
     "output_type": "stream",
     "text": [
      "10진수와 변환할 진법을 입력하세요: 26 16\n",
      "110"
     ]
    }
   ],
   "source": [
    "# 진법 변환 => 10진수를 n진수로\n",
    "dec, n = map(int, input('10진수와 변환할 진법을 입력하세요: ').split())\n",
    "convert = []\n",
    "while True:\n",
    "    m = dec // n\n",
    "    r = dec % n\n",
    "    convert.append(r)\n",
    "    if m == 0:\n",
    "        break\n",
    "    dec = m\n",
    "\n",
    "for i in range(len(convert) - 1, -1, -1):\n",
    "    print(convert[i] if convert[i] < 10 else chr(convert[i] + 55), end='')"
   ]
  },
  {
   "cell_type": "code",
   "execution_count": 17,
   "id": "d60837f0",
   "metadata": {},
   "outputs": [
    {
     "name": "stdout",
     "output_type": "stream",
     "text": [
      "A\n"
     ]
    }
   ],
   "source": [
    "print(chr(65))"
   ]
  },
  {
   "cell_type": "code",
   "execution_count": null,
   "id": "91b9095f",
   "metadata": {},
   "outputs": [],
   "source": []
  },
  {
   "cell_type": "code",
   "execution_count": null,
   "id": "489ff8a7",
   "metadata": {},
   "outputs": [],
   "source": []
  },
  {
   "cell_type": "code",
   "execution_count": null,
   "id": "30ae248c",
   "metadata": {},
   "outputs": [],
   "source": []
  },
  {
   "cell_type": "code",
   "execution_count": null,
   "id": "12133ea5",
   "metadata": {},
   "outputs": [],
   "source": []
  },
  {
   "cell_type": "code",
   "execution_count": null,
   "id": "29d28f93",
   "metadata": {},
   "outputs": [],
   "source": []
  }
 ],
 "metadata": {
  "kernelspec": {
   "display_name": "Python 3 (ipykernel)",
   "language": "python",
   "name": "python3"
  },
  "language_info": {
   "codemirror_mode": {
    "name": "ipython",
    "version": 3
   },
   "file_extension": ".py",
   "mimetype": "text/x-python",
   "name": "python",
   "nbconvert_exporter": "python",
   "pygments_lexer": "ipython3",
   "version": "3.9.6"
  }
 },
 "nbformat": 4,
 "nbformat_minor": 5
}

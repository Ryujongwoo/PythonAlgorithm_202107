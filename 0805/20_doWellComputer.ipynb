{
 "cells": [
  {
   "cell_type": "code",
   "execution_count": 3,
   "id": "f38c2f81",
   "metadata": {},
   "outputs": [],
   "source": [
    "# 경고 메시지가 출력되지 않게 하려면 아래의 코드를 실행한다.\n",
    "import warnings\n",
    "warnings.filterwarnings(action='ignore')\n",
    "# 다시 경고 메시지를 출력되게 하려면 warnings.filterwarnings(action='default')를 실행한다."
   ]
  },
  {
   "cell_type": "code",
   "execution_count": 10,
   "id": "aa82e10b",
   "metadata": {},
   "outputs": [],
   "source": [
    "# 크롤링에 사용할 라이브러리를 설치하고 import 한다.\n",
    "# !pip install requests       # 크롤링할 사이트에 접속해서 html 문서를 얻어온다.\n",
    "# !pip install beautifulsoup4 # requests 모듈을 사용해서 읽어온 html 문서를 파싱(분석)한다.\n",
    "import requests\n",
    "from bs4 import BeautifulSoup"
   ]
  },
  {
   "cell_type": "code",
   "execution_count": 12,
   "id": "107f2c07",
   "metadata": {
    "scrolled": true
   },
   "outputs": [],
   "source": [
    "targetSite = 'http://www.dowellcomputer.com/main.jsp'\n",
    "# requests 모듈의 get() 메소드로 타겟 사이트의 정보를 얻어온다. 요청한다.\n",
    "request = requests.get(targetSite)\n",
    "# print(request) # <Response [200]> => 사이트 정보를 정상적으로 얻어왔다.\n",
    "html = request.text\n",
    "# print(html)\n",
    "# bs4 모듈의 BeautifulSoup() 함수로 타겟 사이트에서 얻어온 html 문서를 파싱할 수 있도록 준비한다.\n",
    "soup = BeautifulSoup(html, 'html.parser')\n",
    "# print(soup)"
   ]
  },
  {
   "cell_type": "markdown",
   "id": "71812045",
   "metadata": {},
   "source": [
    "html 태그와 html 태그에 지정된 속성과 속성값을 이용한 크롤링  \n",
    "findAll('태그이름', {'속성이름': '속성값'}) => 태그에 속성이 지정되어 있지 않으면 {}안의 내용은 생략할 수 있다."
   ]
  },
  {
   "cell_type": "code",
   "execution_count": 14,
   "id": "72c73b13",
   "metadata": {},
   "outputs": [
    {
     "name": "stdout",
     "output_type": "stream",
     "text": [
      "<b>자바 기초 프로그래밍 강좌를 완강했습니다.</b>\n",
      "<b>컴잘알에 오신 것을 환영합니다.</b>\n",
      "<b>C언어 기초 프로그래밍 강좌 20강 - 동적 메모리의 활용 (C Programming Tutorial For Beginners 2017 #20) </b>\n",
      "<b>C언어 기초 프로그래밍 강좌 19강 - 동적 메모리 (C Programming Tutorial For Beginners 2017 #19) </b>\n",
      "<b>C언어 기초 프로그래밍 강좌 18강 - 파일 입출력 (C Programming Tutorial For Beginners 2017 #18) </b>\n",
      "<b>C언어 기초 프로그래밍 강좌 17강 - 구조체의 활용 ② (C Programming Tutorial For Beginners 2017 #17) </b>\n",
      "<b>C언어 기초 프로그래밍 강좌 16강 - 구조체의 활용 ① (C Programming Tutorial For Beginners 2017 #16) </b>\n"
     ]
    }
   ],
   "source": [
    "# 최근 공지사항은 <b> 태그 내부에 있다.\n",
    "notices = soup.findAll('b')\n",
    "# print(notices)\n",
    "\n",
    "for notice in notices:\n",
    "    print(notice)"
   ]
  },
  {
   "cell_type": "code",
   "execution_count": 16,
   "id": "cbd0aa42",
   "metadata": {},
   "outputs": [
    {
     "name": "stdout",
     "output_type": "stream",
     "text": [
      "<td class=\"tail\" style=\"text-align: center;\">나동빈</td>\n",
      "<td class=\"tail\"><a href=\"./notice/noticeViewForm.jsp?noticeID=4\"><b>자바 기초 프로그래밍 강좌를 완강했습니다.</b></a></td>\n",
      "<td class=\"tail\" style=\"text-align: center;\">2017-05-02\r\n",
      "\t\t\t\t    </td>\n",
      "<td class=\"tail\" style=\"text-align: center;\">나동빈</td>\n",
      "<td class=\"tail\"><a href=\"./notice/noticeViewForm.jsp?noticeID=1\"><b>컴잘알에 오신 것을 환영합니다.</b></a></td>\n",
      "<td class=\"tail\" style=\"text-align: center;\">2016-11-28\r\n",
      "\t\t\t\t    </td>\n",
      "<td class=\"tail\" style=\"text-align: center;\">나동빈</td>\n",
      "<td class=\"tail\"><a href=\"./study/study.jsp?studyID=85\"><b>C언어 기초 프로그래밍 강좌 20강 - 동적 메모리의 활용 (C Programming Tutorial For Beginners 2017 #20) </b></a></td>\n",
      "<td class=\"tail\" style=\"text-align: center;\">2017-05-15\r\n",
      "\t\t\t\t    </td>\n",
      "<td class=\"tail\" style=\"text-align: center;\">나동빈</td>\n",
      "<td class=\"tail\"><a href=\"./study/study.jsp?studyID=84\"><b>C언어 기초 프로그래밍 강좌 19강 - 동적 메모리 (C Programming Tutorial For Beginners 2017 #19) </b></a></td>\n",
      "<td class=\"tail\" style=\"text-align: center;\">2017-05-15\r\n",
      "\t\t\t\t    </td>\n",
      "<td class=\"tail\" style=\"text-align: center;\">나동빈</td>\n",
      "<td class=\"tail\"><a href=\"./study/study.jsp?studyID=83\"><b>C언어 기초 프로그래밍 강좌 18강 - 파일 입출력 (C Programming Tutorial For Beginners 2017 #18) </b></a></td>\n",
      "<td class=\"tail\" style=\"text-align: center;\">2017-05-15\r\n",
      "\t\t\t\t    </td>\n",
      "<td class=\"tail\" style=\"text-align: center;\">나동빈</td>\n",
      "<td class=\"tail\"><a href=\"./study/study.jsp?studyID=82\"><b>C언어 기초 프로그래밍 강좌 17강 - 구조체의 활용 ② (C Programming Tutorial For Beginners 2017 #17) </b></a></td>\n",
      "<td class=\"tail\" style=\"text-align: center;\">2017-05-15\r\n",
      "\t\t\t\t    </td>\n",
      "<td class=\"tail\" style=\"text-align: center;\">나동빈</td>\n",
      "<td class=\"tail\"><a href=\"./study/study.jsp?studyID=81\"><b>C언어 기초 프로그래밍 강좌 16강 - 구조체의 활용 ① (C Programming Tutorial For Beginners 2017 #16) </b></a></td>\n",
      "<td class=\"tail\" style=\"text-align: center;\">2017-05-15\r\n",
      "\t\t\t\t    </td>\n"
     ]
    }
   ],
   "source": [
    "# 최근 공지사항은 class 속성이 tail인 <td> 태그 내부에 있다.\n",
    "notices = soup.findAll('td', {'class': 'tail'})\n",
    "# print(notices)\n",
    "\n",
    "for notice in notices:\n",
    "    print(notice)"
   ]
  },
  {
   "cell_type": "markdown",
   "id": "fdabab9f",
   "metadata": {},
   "source": [
    "CSS 선택자를 이용한 크롤링  \n",
    "자식 선택자(>) 또는 자손 선택자(공백 1칸)를 이용한 크롤링  \n",
    "select('CSS선택자')"
   ]
  },
  {
   "cell_type": "code",
   "execution_count": 25,
   "id": "3732ee66",
   "metadata": {},
   "outputs": [
    {
     "name": "stdout",
     "output_type": "stream",
     "text": [
      "자바 기초 프로그래밍 강좌를 완강했습니다.\n",
      "컴잘알에 오신 것을 환영합니다.\n"
     ]
    }
   ],
   "source": [
    "# 최근 공지사항은 href 속성값에 'notice' 문자열이 포함되어있는 <a> 태그 내부에 있다.\n",
    "notices = soup.select('td > a')\n",
    "# print(notices)\n",
    "\n",
    "for notice in notices:\n",
    "    # print(notice)\n",
    "    # get() 메소드로 인수로 지정한 속성의 값을 얻어온다.\n",
    "    # print(notice.get('href'))\n",
    "    # 'notice'가 포함된 요소의 텍스트만 얻어온다.\n",
    "    if notice.get('href').find('notice') >= 0:\n",
    "        print(notice.text)"
   ]
  },
  {
   "cell_type": "code",
   "execution_count": null,
   "id": "d28606d0",
   "metadata": {},
   "outputs": [],
   "source": []
  },
  {
   "cell_type": "code",
   "execution_count": null,
   "id": "890e7a46",
   "metadata": {},
   "outputs": [],
   "source": []
  },
  {
   "cell_type": "code",
   "execution_count": null,
   "id": "3f8399e2",
   "metadata": {},
   "outputs": [],
   "source": []
  },
  {
   "cell_type": "code",
   "execution_count": null,
   "id": "df34b047",
   "metadata": {},
   "outputs": [],
   "source": []
  },
  {
   "cell_type": "code",
   "execution_count": null,
   "id": "8f62fa97",
   "metadata": {},
   "outputs": [],
   "source": []
  },
  {
   "cell_type": "code",
   "execution_count": null,
   "id": "a9d5e11a",
   "metadata": {},
   "outputs": [],
   "source": []
  }
 ],
 "metadata": {
  "kernelspec": {
   "display_name": "Python 3",
   "language": "python",
   "name": "python3"
  },
  "language_info": {
   "codemirror_mode": {
    "name": "ipython",
    "version": 3
   },
   "file_extension": ".py",
   "mimetype": "text/x-python",
   "name": "python",
   "nbconvert_exporter": "python",
   "pygments_lexer": "ipython3",
   "version": "3.6.8"
  }
 },
 "nbformat": 4,
 "nbformat_minor": 5
}

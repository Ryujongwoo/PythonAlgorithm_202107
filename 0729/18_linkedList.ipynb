{
 "cells": [
  {
   "cell_type": "code",
   "execution_count": 16,
   "id": "8863b977",
   "metadata": {},
   "outputs": [
    {
     "data": {
      "image/png": "[encoded data removed]",
      "text/plain": [
       "<IPython.core.display.Image object>"
      ]
     },
     "execution_count": 16,
     "metadata": {
      "image/png": {
       "width": "1100"
      }
     },
     "output_type": "execute_result"
    }
   ],
   "source": [
    "from IPython.display import Image\n",
    "Image('./linkedList.png', width='1100')"
   ]
  },
  {
   "cell_type": "code",
   "execution_count": 1,
   "id": "6a284181",
   "metadata": {},
   "outputs": [],
   "source": [
    "# linkedList에 저장할 데이터를 기억하는 클래스 => 노드\n",
    "class Node:\n",
    "    def __init__(self, data = None):\n",
    "        self.data = data # linkedList에 저장할 실제 데이터\n",
    "        self.next = None # 다음 데이너의 위치(주소)"
   ]
  },
  {
   "cell_type": "code",
   "execution_count": 13,
   "id": "7d0b0f86",
   "metadata": {},
   "outputs": [],
   "source": [
    "# linkedList 자체를 의미하는 클래스\n",
    "class LinkedList:\n",
    "    def __init__(self):\n",
    "        self.count = 0   # linkedList에 저장된 데이터의 개수\n",
    "        self.head = None # linkedList의 시작 위치\n",
    "        \n",
    "    # linkedList에 데이터를 입력하는 경우의 수는 모두 3가지가 있다.\n",
    "    # 1. linkedList의 맨 뒤에 데이터를 추가하는 경우\n",
    "    # 2. linkedList의 맨 앞(head 다음 위치)에 데이터를 삽입하는 경우\n",
    "    # 3. linkedList 맨 앞과 맨 뒤를 제외한 특정 위치에 데이터를 삽입하는 경우\n",
    "    \n",
    "    # 1. linkedList의 맨 뒤에 데이터를 추가하는 메소드\n",
    "    def appendLast(self, data):\n",
    "        # linkedList의 맨 뒤에 추가할 데이터를 넘겨받아 Node 클래스(linkedList에 저장할 데이터) 객체를 만든다.\n",
    "        newNode = Node(data)\n",
    "        # print(newNode) # Node 클래스 객체가 생성된 주소가 출력된다.\n",
    "        # linkedList에 저장된 데이터의 개수를 증가시킨다.\n",
    "        self.count += 1\n",
    "        \n",
    "        # linkedList가 비어있을 경우와 비어있지 않을 경우에 따라서 linkedList에 데이터를 추가는 방법이 다르다.\n",
    "        # linkedList가 비어있나 물어봐서 비어있으면 head 바로 다음에 추가한다.\n",
    "        if self.head is None: # 빈 linkedList 인가?\n",
    "            # linkedList가 비어있으므로 head 다음에 데이터를 넣어준다. => head에 newNode가 메모리에 생성된 주소를 넣어준다.\n",
    "            self.head = newNode\n",
    "            # 데이터를 head 다음에 추가했으므로 더 이상 appendLast() 메소드를 실행할 이유가 없으므로 return 시켜 종료한다.\n",
    "            return\n",
    "        # ===== if self.head in None\n",
    "        \n",
    "        # linkedList가 비어있지 않다면 linkedList에 저장된 데이터가 있다는 것이므로 linkedList의 마지막 위치로 이동한 후\n",
    "        # 데이터를 추가한다.\n",
    "        # linkedList의 시작 위치를 지정한다.\n",
    "        start = self.head\n",
    "        # head 부터 시작해서 linkedList의 마지막 데이터로 이동한다. => 마지막 데이터는 next에 None이 저장되어 있다.\n",
    "        # start.data는 현재 데이터를 의미하고 start.next는 다음 데이터가 저장된 주소를 의미한다.\n",
    "        # start.next에 저장된 값이 None이 아니면 True, None이면 False가 된다.\n",
    "        while start.next:      # linkedList에 저장된 다음 데이터가 있는가?\n",
    "            start = start.next # 다음 데이터로 접근한다.\n",
    "        # 더 이상 다음 데이터가 없으면 현재 데이터가 마지막 데이터이므로 현재 데이터 다음에 새 데이터를 추가한다.\n",
    "        start.next = newNode\n",
    "    \n",
    "    # 2. linkedList의 맨 앞(head 다음)에 데이터를 삽입하는 경우\n",
    "    def insertFirst(self, data):\n",
    "        newNode = Node(data)\n",
    "        self.count += 1\n",
    "        "
   ]
  },
  {
   "cell_type": "code",
   "execution_count": 12,
   "id": "aef0c8d4",
   "metadata": {},
   "outputs": [
    {
     "name": "stdout",
     "output_type": "stream",
     "text": [
      "linkedList를 만든다.\n",
      "================================================================================\n",
      "linkedList의 head 다음에 데이터를 추가한다.\n",
      "================================================================================\n",
      "linkedList의 맨 뒤에 데이터를 추가한다.\n"
     ]
    }
   ],
   "source": [
    "print('linkedList를 만든다.')\n",
    "linkedList = LinkedList() # linkedList를 막 만들었으므로 비어있는 linkedList 이다.\n",
    "print('=' * 80)\n",
    "\n",
    "print('linkedList의 head 다음에 데이터를 추가한다.')\n",
    "linkedList.appendLast('홍길동')\n",
    "print('=' * 80)\n",
    "\n",
    "print('linkedList의 맨 뒤에 데이터를 추가한다.')\n",
    "linkedList.appendLast('임꺽정')\n",
    "linkedList.appendLast('장길산')\n",
    "print('=' * 80)\n",
    "\n",
    "print('linkedList의 맨 앞(head 다음)에 데이터를 삽입한다.')\n",
    "linkedList.insertFirst('일지매')\n",
    "print('=' * 80)"
   ]
  },
  {
   "cell_type": "code",
   "execution_count": null,
   "id": "3204f4c1",
   "metadata": {},
   "outputs": [],
   "source": []
  },
  {
   "cell_type": "code",
   "execution_count": null,
   "id": "9d4896c9",
   "metadata": {},
   "outputs": [],
   "source": []
  },
  {
   "cell_type": "code",
   "execution_count": null,
   "id": "f8ab3e67",
   "metadata": {},
   "outputs": [],
   "source": []
  },
  {
   "cell_type": "code",
   "execution_count": null,
   "id": "b5bfa262",
   "metadata": {},
   "outputs": [],
   "source": []
  },
  {
   "cell_type": "code",
   "execution_count": null,
   "id": "585a3f3d",
   "metadata": {},
   "outputs": [],
   "source": []
  },
  {
   "cell_type": "code",
   "execution_count": null,
   "id": "57866033",
   "metadata": {},
   "outputs": [],
   "source": []
  },
  {
   "cell_type": "code",
   "execution_count": null,
   "id": "8bdc01ee",
   "metadata": {},
   "outputs": [],
   "source": []
  }
 ],
 "metadata": {
  "kernelspec": {
   "display_name": "Python 3 (ipykernel)",
   "language": "python",
   "name": "python3"
  },
  "language_info": {
   "codemirror_mode": {
    "name": "ipython",
    "version": 3
   },
   "file_extension": ".py",
   "mimetype": "text/x-python",
   "name": "python",
   "nbconvert_exporter": "python",
   "pygments_lexer": "ipython3",
   "version": "3.9.6"
  }
 },
 "nbformat": 4,
 "nbformat_minor": 5
}
